{
 "cells": [
  {
   "cell_type": "code",
   "execution_count": 241,
   "id": "abc891e7-7b37-4c83-b227-8287214575aa",
   "metadata": {},
   "outputs": [],
   "source": [
    "import pandas as pd\n",
    "import re\n",
    "import time\n",
    "import numpy as np\n",
    "import ast\n",
    "import sys\n",
    "from sklearn.model_selection import train_test_split\n",
    "from sklearn.preprocessing import StandardScaler\n",
    "from sklearn.linear_model import LogisticRegression\n",
    "from sklearn.metrics import accuracy_score, classification_report, confusion_matrix, roc_curve, auc\n",
    "from sklearn.impute import SimpleImputer\n",
    "from sklearn.metrics.pairwise import cosine_similarity\n",
    "from sklearn.decomposition import PCA\n",
    "import prince"
   ]
  },
  {
   "cell_type": "code",
   "execution_count": 3,
   "id": "692ec79c-43d6-4577-9fd9-621a0f5be537",
   "metadata": {},
   "outputs": [],
   "source": [
    "# Load in the data\n",
    "\n",
    "filename = \"../EDA/millionsong_subset.csv\"\n",
    "subset = pd.read_csv(filename)"
   ]
  },
  {
   "cell_type": "code",
   "execution_count": 169,
   "id": "d496da6c-c4e0-41a5-bc65-2338e0b413ec",
   "metadata": {},
   "outputs": [],
   "source": [
    "def get_top_terms(inlist, number=5): \n",
    "    if inlist == []: \n",
    "        return inlist\n",
    "    maxlen = min(number,len(inlist))\n",
    "    return inlist[0:maxlen]"
   ]
  },
  {
   "cell_type": "code",
   "execution_count": 259,
   "id": "ed4c4457-5aae-4b94-a2c1-06447f125e8f",
   "metadata": {},
   "outputs": [],
   "source": [
    "def listify(instr): \n",
    "    outlist = []\n",
    "    if type(instr) == str:\n",
    "        rawlist = instr.split(',')\n",
    "    else: \n",
    "        rawlist = instr\n",
    "    pattern = r\"[\\'\\\"](.*)\"\n",
    "    for element in rawlist: \n",
    "        red_element = re.findall(pattern,element)\n",
    "        if len(red_element) != 0: \n",
    "            red_element = red_element[0]\n",
    "            cleaned_element = re.sub(r'[\\\"\\'\\]\\[]','',red_element)\n",
    "            outlist.append(cleaned_element)\n",
    "    return outlist\n",
    "\n",
    "def collect_list(use_col):\n",
    "    out_dict = dict()\n",
    "    for element in use_col: \n",
    "        listed_el = listify(element)\n",
    "        for sub_element in listed_el: \n",
    "            if sub_element not in out_dict.keys(): \n",
    "                out_dict[sub_element] = 1\n",
    "            else: \n",
    "                out_dict[sub_element] += 1\n",
    "    return out_dict\n",
    "\n",
    "def sort_genre(in_dict): \n",
    "    uselist = [(i,in_dict[i]) for i in in_dict]\n",
    "    uselist = sorted(uselist, key = lambda x: -x[1])\n",
    "    return uselist\n",
    "\n",
    "artist_term_dict = collect_list(subset['artist_terms'])\n",
    "artist_term_sorted = sort_genre(artist_term_dict)\n",
    "\n",
    "artist_mbtags_dict = collect_list(subset['artist_mbtags'])\n",
    "artist_mbtags_sorted = sort_genre(artist_mbtags_dict)"
   ]
  },
  {
   "cell_type": "code",
   "execution_count": 260,
   "id": "a918dc0c-81f7-47ee-ab13-e5920bfbfc97",
   "metadata": {},
   "outputs": [],
   "source": [
    "artist_terms_literal = subset['artist_terms'].apply(lambda x: listify(x))"
   ]
  },
  {
   "cell_type": "code",
   "execution_count": 263,
   "id": "77fc6297-e5fe-457b-b32e-6f41005b741d",
   "metadata": {},
   "outputs": [],
   "source": [
    "term_number = 3000\n",
    "artist_terms_literal = artist_terms_literal.apply(lambda x: get_top_terms(x,number=term_number))"
   ]
  },
  {
   "cell_type": "code",
   "execution_count": 265,
   "id": "68fbc5ed-ae85-4026-9bcd-a2fc018946a5",
   "metadata": {},
   "outputs": [
    {
     "data": {
      "text/plain": [
       "'hip hop'"
      ]
     },
     "execution_count": 265,
     "metadata": {},
     "output_type": "execute_result"
    }
   ],
   "source": [
    "str(artist_terms_literal.iloc[0][0])"
   ]
  },
  {
   "cell_type": "code",
   "execution_count": 267,
   "id": "2e8e4908-36d2-47d7-9932-d8f8ec3dcd5c",
   "metadata": {},
   "outputs": [],
   "source": [
    "genre_df = {i:[0 for _ in range(subset.shape[0])] for i in artist_term_dict.keys()}\n",
    "genre_df = pd.DataFrame(genre_df)"
   ]
  },
  {
   "cell_type": "code",
   "execution_count": 367,
   "id": "ef299e12-8014-4b77-9ad0-b37efb340286",
   "metadata": {},
   "outputs": [],
   "source": [
    "for i in range(artist_terms_literal.shape[0]):\n",
    "    use_list = artist_terms_literal.iloc[i]\n",
    "    #print(use_list)\n",
    "    genre_df.loc[i,use_list] = 1"
   ]
  },
  {
   "cell_type": "code",
   "execution_count": 273,
   "id": "bb61ab90-556c-4b23-9171-9b6a1d323690",
   "metadata": {},
   "outputs": [
    {
     "data": {
      "text/plain": [
       "1"
      ]
     },
     "execution_count": 273,
     "metadata": {},
     "output_type": "execute_result"
    }
   ],
   "source": [
    "genre_df.iloc[910]['heavy metal']"
   ]
  },
  {
   "cell_type": "code",
   "execution_count": 277,
   "id": "2765b676-097d-4d6e-b1a3-fa46510a2346",
   "metadata": {},
   "outputs": [],
   "source": [
    "manhattan = lambda x,y:  abs((genre_df.iloc[y] - genre_df.iloc[x]).to_numpy()).sum()"
   ]
  },
  {
   "cell_type": "code",
   "execution_count": 279,
   "id": "c7a012ef-91bf-426b-ba36-56558ec3aa90",
   "metadata": {},
   "outputs": [],
   "source": [
    "outlist = []\n",
    "compare_number = 910\n",
    "for i in range(genre_df.shape[0]): \n",
    "    outlist.append((i,manhattan(i,compare_number)))\n",
    "outlist = sorted(outlist, key=lambda x: x[1])"
   ]
  },
  {
   "cell_type": "code",
   "execution_count": 281,
   "id": "dfd484e5-4cb8-4d45-8918-7acef89b4b7f",
   "metadata": {},
   "outputs": [
    {
     "data": {
      "text/plain": [
       "(5842, 112)"
      ]
     },
     "execution_count": 281,
     "metadata": {},
     "output_type": "execute_result"
    }
   ],
   "source": [
    "outlist[-1]"
   ]
  },
  {
   "cell_type": "code",
   "execution_count": 351,
   "id": "4a196c2f-f98c-4fcb-8e83-9010ce181ef5",
   "metadata": {},
   "outputs": [],
   "source": [
    "mca = prince.PCA(n_components=10)\n",
    "mca = mca.fit(genre_df)\n"
   ]
  },
  {
   "cell_type": "code",
   "execution_count": 353,
   "id": "f130e571-63ab-47b8-aa8d-ace9095e5718",
   "metadata": {},
   "outputs": [],
   "source": [
    "test = mca.fit_transform(genre_df)"
   ]
  },
  {
   "cell_type": "code",
   "execution_count": 355,
   "id": "0ea390ee-6293-4702-a0db-4637e69d07fd",
   "metadata": {},
   "outputs": [
    {
     "data": {
      "text/html": [
       "<div>\n",
       "<style scoped>\n",
       "    .dataframe tbody tr th:only-of-type {\n",
       "        vertical-align: middle;\n",
       "    }\n",
       "\n",
       "    .dataframe tbody tr th {\n",
       "        vertical-align: top;\n",
       "    }\n",
       "\n",
       "    .dataframe thead th {\n",
       "        text-align: right;\n",
       "    }\n",
       "</style>\n",
       "<table border=\"1\" class=\"dataframe\">\n",
       "  <thead>\n",
       "    <tr style=\"text-align: right;\">\n",
       "      <th>component</th>\n",
       "      <th>0</th>\n",
       "      <th>1</th>\n",
       "      <th>2</th>\n",
       "      <th>3</th>\n",
       "      <th>4</th>\n",
       "      <th>5</th>\n",
       "      <th>6</th>\n",
       "      <th>7</th>\n",
       "      <th>8</th>\n",
       "      <th>9</th>\n",
       "    </tr>\n",
       "  </thead>\n",
       "  <tbody>\n",
       "    <tr>\n",
       "      <th>0</th>\n",
       "      <td>3.049361</td>\n",
       "      <td>3.218337</td>\n",
       "      <td>-6.811547</td>\n",
       "      <td>-0.382060</td>\n",
       "      <td>8.643797</td>\n",
       "      <td>-2.722817</td>\n",
       "      <td>-7.468654</td>\n",
       "      <td>-2.938329</td>\n",
       "      <td>-0.519635</td>\n",
       "      <td>4.662224</td>\n",
       "    </tr>\n",
       "    <tr>\n",
       "      <th>1</th>\n",
       "      <td>-1.986512</td>\n",
       "      <td>-1.522330</td>\n",
       "      <td>4.797115</td>\n",
       "      <td>-4.219568</td>\n",
       "      <td>-0.265010</td>\n",
       "      <td>0.458569</td>\n",
       "      <td>2.404783</td>\n",
       "      <td>-2.718200</td>\n",
       "      <td>0.696164</td>\n",
       "      <td>0.679887</td>\n",
       "    </tr>\n",
       "    <tr>\n",
       "      <th>2</th>\n",
       "      <td>-2.477696</td>\n",
       "      <td>1.740065</td>\n",
       "      <td>-2.313956</td>\n",
       "      <td>2.443366</td>\n",
       "      <td>-1.432996</td>\n",
       "      <td>-3.758712</td>\n",
       "      <td>-0.127287</td>\n",
       "      <td>0.946832</td>\n",
       "      <td>0.708592</td>\n",
       "      <td>-0.893924</td>\n",
       "    </tr>\n",
       "    <tr>\n",
       "      <th>3</th>\n",
       "      <td>3.890561</td>\n",
       "      <td>-3.072097</td>\n",
       "      <td>1.966947</td>\n",
       "      <td>-2.223197</td>\n",
       "      <td>-0.746983</td>\n",
       "      <td>1.324332</td>\n",
       "      <td>1.715971</td>\n",
       "      <td>-1.687887</td>\n",
       "      <td>-0.522158</td>\n",
       "      <td>1.104874</td>\n",
       "    </tr>\n",
       "    <tr>\n",
       "      <th>4</th>\n",
       "      <td>5.191418</td>\n",
       "      <td>1.201986</td>\n",
       "      <td>-0.582506</td>\n",
       "      <td>-4.108287</td>\n",
       "      <td>0.361188</td>\n",
       "      <td>-1.128096</td>\n",
       "      <td>0.597573</td>\n",
       "      <td>-0.602123</td>\n",
       "      <td>0.255631</td>\n",
       "      <td>1.429320</td>\n",
       "    </tr>\n",
       "    <tr>\n",
       "      <th>...</th>\n",
       "      <td>...</td>\n",
       "      <td>...</td>\n",
       "      <td>...</td>\n",
       "      <td>...</td>\n",
       "      <td>...</td>\n",
       "      <td>...</td>\n",
       "      <td>...</td>\n",
       "      <td>...</td>\n",
       "      <td>...</td>\n",
       "      <td>...</td>\n",
       "    </tr>\n",
       "    <tr>\n",
       "      <th>9995</th>\n",
       "      <td>2.132998</td>\n",
       "      <td>8.196952</td>\n",
       "      <td>0.405285</td>\n",
       "      <td>-0.059156</td>\n",
       "      <td>-1.517625</td>\n",
       "      <td>1.747695</td>\n",
       "      <td>-4.509106</td>\n",
       "      <td>-0.461919</td>\n",
       "      <td>-0.954016</td>\n",
       "      <td>0.371439</td>\n",
       "    </tr>\n",
       "    <tr>\n",
       "      <th>9996</th>\n",
       "      <td>-2.729619</td>\n",
       "      <td>-3.793287</td>\n",
       "      <td>3.640437</td>\n",
       "      <td>0.022569</td>\n",
       "      <td>-0.510473</td>\n",
       "      <td>-1.303835</td>\n",
       "      <td>0.626607</td>\n",
       "      <td>0.241273</td>\n",
       "      <td>0.163218</td>\n",
       "      <td>-0.616316</td>\n",
       "    </tr>\n",
       "    <tr>\n",
       "      <th>9997</th>\n",
       "      <td>-1.142729</td>\n",
       "      <td>0.376992</td>\n",
       "      <td>-2.805691</td>\n",
       "      <td>1.352466</td>\n",
       "      <td>0.931952</td>\n",
       "      <td>-0.239663</td>\n",
       "      <td>-2.134002</td>\n",
       "      <td>1.053076</td>\n",
       "      <td>1.215466</td>\n",
       "      <td>-0.685071</td>\n",
       "    </tr>\n",
       "    <tr>\n",
       "      <th>9998</th>\n",
       "      <td>-1.816540</td>\n",
       "      <td>1.944021</td>\n",
       "      <td>-1.229976</td>\n",
       "      <td>0.338535</td>\n",
       "      <td>1.111180</td>\n",
       "      <td>-0.496078</td>\n",
       "      <td>-0.160441</td>\n",
       "      <td>1.211583</td>\n",
       "      <td>0.635061</td>\n",
       "      <td>-0.481046</td>\n",
       "    </tr>\n",
       "    <tr>\n",
       "      <th>9999</th>\n",
       "      <td>-0.368756</td>\n",
       "      <td>4.256017</td>\n",
       "      <td>-1.977231</td>\n",
       "      <td>-3.172205</td>\n",
       "      <td>-0.046634</td>\n",
       "      <td>0.211024</td>\n",
       "      <td>2.324889</td>\n",
       "      <td>-2.411835</td>\n",
       "      <td>-2.552407</td>\n",
       "      <td>-7.397144</td>\n",
       "    </tr>\n",
       "  </tbody>\n",
       "</table>\n",
       "<p>10000 rows × 10 columns</p>\n",
       "</div>"
      ],
      "text/plain": [
       "component         0         1         2         3         4         5  \\\n",
       "0          3.049361  3.218337 -6.811547 -0.382060  8.643797 -2.722817   \n",
       "1         -1.986512 -1.522330  4.797115 -4.219568 -0.265010  0.458569   \n",
       "2         -2.477696  1.740065 -2.313956  2.443366 -1.432996 -3.758712   \n",
       "3          3.890561 -3.072097  1.966947 -2.223197 -0.746983  1.324332   \n",
       "4          5.191418  1.201986 -0.582506 -4.108287  0.361188 -1.128096   \n",
       "...             ...       ...       ...       ...       ...       ...   \n",
       "9995       2.132998  8.196952  0.405285 -0.059156 -1.517625  1.747695   \n",
       "9996      -2.729619 -3.793287  3.640437  0.022569 -0.510473 -1.303835   \n",
       "9997      -1.142729  0.376992 -2.805691  1.352466  0.931952 -0.239663   \n",
       "9998      -1.816540  1.944021 -1.229976  0.338535  1.111180 -0.496078   \n",
       "9999      -0.368756  4.256017 -1.977231 -3.172205 -0.046634  0.211024   \n",
       "\n",
       "component         6         7         8         9  \n",
       "0         -7.468654 -2.938329 -0.519635  4.662224  \n",
       "1          2.404783 -2.718200  0.696164  0.679887  \n",
       "2         -0.127287  0.946832  0.708592 -0.893924  \n",
       "3          1.715971 -1.687887 -0.522158  1.104874  \n",
       "4          0.597573 -0.602123  0.255631  1.429320  \n",
       "...             ...       ...       ...       ...  \n",
       "9995      -4.509106 -0.461919 -0.954016  0.371439  \n",
       "9996       0.626607  0.241273  0.163218 -0.616316  \n",
       "9997      -2.134002  1.053076  1.215466 -0.685071  \n",
       "9998      -0.160441  1.211583  0.635061 -0.481046  \n",
       "9999       2.324889 -2.411835 -2.552407 -7.397144  \n",
       "\n",
       "[10000 rows x 10 columns]"
      ]
     },
     "execution_count": 355,
     "metadata": {},
     "output_type": "execute_result"
    }
   ],
   "source": [
    "test"
   ]
  },
  {
   "cell_type": "code",
   "execution_count": 357,
   "id": "d792c644-13ca-44f1-8a9e-ebbabef602e4",
   "metadata": {},
   "outputs": [],
   "source": [
    "outlist = []\n",
    "compare_number = 910\n",
    "a = test.iloc[910,:].to_numpy().reshape(1,-1)\n",
    "for i in range(test.shape[0]): \n",
    "    b = test.iloc[i,:].to_numpy().reshape(1,-1)\n",
    "    outlist.append((i,cosine_similarity(a,b)[0][0]))\n",
    "outlist = sorted(outlist, key=lambda x: -x[1])"
   ]
  },
  {
   "cell_type": "code",
   "execution_count": 363,
   "id": "0c621c54-86a3-4c13-b9f0-b72f4c0c9878",
   "metadata": {},
   "outputs": [],
   "source": [
    "#test.to_csv(\"artist_term_components.csv\")"
   ]
  },
  {
   "cell_type": "code",
   "execution_count": null,
   "id": "833781d9-0c99-42c6-9cbe-13171029e262",
   "metadata": {},
   "outputs": [],
   "source": []
  }
 ],
 "metadata": {
  "kernelspec": {
   "display_name": "Python [conda env:base] *",
   "language": "python",
   "name": "conda-base-py"
  },
  "language_info": {
   "codemirror_mode": {
    "name": "ipython",
    "version": 3
   },
   "file_extension": ".py",
   "mimetype": "text/x-python",
   "name": "python",
   "nbconvert_exporter": "python",
   "pygments_lexer": "ipython3",
   "version": "3.11.5"
  }
 },
 "nbformat": 4,
 "nbformat_minor": 5
}
