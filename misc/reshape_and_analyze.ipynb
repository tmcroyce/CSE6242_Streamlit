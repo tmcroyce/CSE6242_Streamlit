{
 "cells": [
  {
   "cell_type": "code",
   "execution_count": 1,
   "id": "1012b796-679c-4180-aa35-4011593c61a7",
   "metadata": {},
   "outputs": [],
   "source": [
    "import pandas as pd\n",
    "import re\n",
    "import time\n",
    "import numpy as np\n",
    "import ast\n",
    "import sys\n",
    "#from sklearn.model_selection import train_test_split\n",
    "#from sklearn.preprocessing import StandardScaler\n",
    "#from sklearn.linear_model import LogisticRegression\n",
    "#from sklearn.impute import SimpleImputer"
   ]
  },
  {
   "cell_type": "markdown",
   "id": "3da2066a-c392-4a65-b915-5076139fd099",
   "metadata": {},
   "source": [
    "If you're checking out the similarity function, use this notebook first. This will get you the non-nested columns and the pitches. To get the timbres, I'd recommend using \"nested_column_commandline\" and, as its name suggests, running it from the command line. Also, I removed columns that were more than 95% nan before doing the imputing, and split my work over several notebooks. I did all of this because of the fact that this is all pretty memory-intensive, and if I didn't chunk things up one at a time, Python couldn't allocate enough memory for a lot of this. \n",
    "\n",
    "So once you've done that, run \"nested_column_commandline\". After that, run \"do_artist_terms\". Then run \"prep_and_run_cosine_similarity.\" Those last two will give you PCAs (and in case of timbre/pitch, run some PCAs to make things a lot faster). \"prep_and_run_cosine_similarity\" also, as the name suggests, contains the similarity function. "
   ]
  },
  {
   "cell_type": "code",
   "execution_count": 3,
   "id": "bd896765-c892-4eb0-9471-97a9633ae8aa",
   "metadata": {},
   "outputs": [],
   "source": [
    "filename = \"../EDA/millionsong_subset.csv\"\n",
    "subset = pd.read_csv(filename)"
   ]
  },
  {
   "cell_type": "code",
   "execution_count": 4,
   "id": "d3d1207f-4122-42f0-bf6d-c375137d9dc6",
   "metadata": {},
   "outputs": [
    {
     "data": {
      "text/html": [
       "<div>\n",
       "<style scoped>\n",
       "    .dataframe tbody tr th:only-of-type {\n",
       "        vertical-align: middle;\n",
       "    }\n",
       "\n",
       "    .dataframe tbody tr th {\n",
       "        vertical-align: top;\n",
       "    }\n",
       "\n",
       "    .dataframe thead th {\n",
       "        text-align: right;\n",
       "    }\n",
       "</style>\n",
       "<table border=\"1\" class=\"dataframe\">\n",
       "  <thead>\n",
       "    <tr style=\"text-align: right;\">\n",
       "      <th></th>\n",
       "      <th>artist_familiarity</th>\n",
       "      <th>artist_hotttnesss</th>\n",
       "      <th>artist_id</th>\n",
       "      <th>artist_mbid</th>\n",
       "      <th>artist_playmeid</th>\n",
       "      <th>artist_7digitalid</th>\n",
       "      <th>artist_latitude</th>\n",
       "      <th>artist_longitude</th>\n",
       "      <th>artist_location</th>\n",
       "      <th>artist_name</th>\n",
       "      <th>...</th>\n",
       "      <th>sections_confidence</th>\n",
       "      <th>beats_start</th>\n",
       "      <th>beats_confidence</th>\n",
       "      <th>bars_start</th>\n",
       "      <th>bars_confidence</th>\n",
       "      <th>tatums_start</th>\n",
       "      <th>tatums_confidence</th>\n",
       "      <th>artist_mbtags</th>\n",
       "      <th>artist_mbtags_count</th>\n",
       "      <th>year</th>\n",
       "    </tr>\n",
       "  </thead>\n",
       "  <tbody>\n",
       "    <tr>\n",
       "      <th>0</th>\n",
       "      <td>0.581794</td>\n",
       "      <td>0.401998</td>\n",
       "      <td>b'ARD7TVE1187B99BFB1'</td>\n",
       "      <td>b'e77e51a5-4761-45b3-9847-2051f811e366'</td>\n",
       "      <td>4479</td>\n",
       "      <td>165270</td>\n",
       "      <td>NaN</td>\n",
       "      <td>NaN</td>\n",
       "      <td>b'California - LA'</td>\n",
       "      <td>b'Casual'</td>\n",
       "      <td>...</td>\n",
       "      <td>[1.0, 1.0, 0.218, 0.133, 0.384, 0.326, 0.373, ...</td>\n",
       "      <td>[0.58521, 1.19196, 1.78893, 2.37813, 2.94247, ...</td>\n",
       "      <td>[0.834, 0.851, 0.65, 0.635, 0.532, 0.753, 0.62...</td>\n",
       "      <td>[0.58521, 2.94247, 5.14371, 7.74554, 10.36149,...</td>\n",
       "      <td>[0.643, 0.746, 0.722, 0.095, 0.091, 0.362, 0.4...</td>\n",
       "      <td>[0.28519, 0.58521, 0.89422, 1.19196, 1.49119, ...</td>\n",
       "      <td>[0.779, 0.734, 0.674, 0.637, 0.597, 0.532, 0.4...</td>\n",
       "      <td>[]</td>\n",
       "      <td>[]</td>\n",
       "      <td>0</td>\n",
       "    </tr>\n",
       "    <tr>\n",
       "      <th>1</th>\n",
       "      <td>0.630630</td>\n",
       "      <td>0.417500</td>\n",
       "      <td>b'ARMJAGH1187FB546F3'</td>\n",
       "      <td>b'1c78ab62-db33-4433-8d0b-7c8dcf1849c2'</td>\n",
       "      <td>22066</td>\n",
       "      <td>1998</td>\n",
       "      <td>35.14968</td>\n",
       "      <td>-90.04892</td>\n",
       "      <td>b'Memphis, TN'</td>\n",
       "      <td>b'The Box Tops'</td>\n",
       "      <td>...</td>\n",
       "      <td>[1.0, 0.451, 0.27, 0.397, 0.225, 0.426, 0.459,...</td>\n",
       "      <td>[0.20627, 0.71054, 1.21836, 1.71841, 2.21729, ...</td>\n",
       "      <td>[1.0, 0.945, 0.714, 0.973, 0.818, 0.974, 0.878...</td>\n",
       "      <td>[0.71054, 2.71502, 4.70861, 6.69288, 8.66941, ...</td>\n",
       "      <td>[0.007, 0.259, 0.172, 0.404, 0.011, 0.016, 0.0...</td>\n",
       "      <td>[0.20627, 0.45904, 0.71054, 0.96834, 1.21836, ...</td>\n",
       "      <td>[0.969, 0.929, 0.897, 0.871, 0.856, 0.845, 0.8...</td>\n",
       "      <td>[b'classic pop and rock']</td>\n",
       "      <td>[1]</td>\n",
       "      <td>1969</td>\n",
       "    </tr>\n",
       "    <tr>\n",
       "      <th>2</th>\n",
       "      <td>0.487357</td>\n",
       "      <td>0.343428</td>\n",
       "      <td>b'ARKRRTF1187B9984DA'</td>\n",
       "      <td>b'7a273984-edd9-4451-9c4d-39b38f05ebcd'</td>\n",
       "      <td>13951</td>\n",
       "      <td>290021</td>\n",
       "      <td>NaN</td>\n",
       "      <td>NaN</td>\n",
       "      <td>b''</td>\n",
       "      <td>b'Sonora Santanera'</td>\n",
       "      <td>...</td>\n",
       "      <td>[1.0, 0.121, 0.214, 0.198, 0.66, 0.468, 0.591,...</td>\n",
       "      <td>[0.73152, 1.39732, 2.04852, 2.68691, 3.315, 3....</td>\n",
       "      <td>[0.98, 0.399, 0.185, 0.27, 0.422, 0.0, 0.445, ...</td>\n",
       "      <td>[0.73152, 1.39732, 2.04852, 2.68691, 3.315, 3....</td>\n",
       "      <td>[0.98, 0.399, 0.185, 0.27, 0.422, 0.0, 0.445, ...</td>\n",
       "      <td>[0.42132, 0.73152, 1.06609, 1.39732, 1.72854, ...</td>\n",
       "      <td>[0.482, 0.676, 0.627, 0.549, 0.279, 0.264, 0.2...</td>\n",
       "      <td>[]</td>\n",
       "      <td>[]</td>\n",
       "      <td>0</td>\n",
       "    </tr>\n",
       "    <tr>\n",
       "      <th>3</th>\n",
       "      <td>0.630382</td>\n",
       "      <td>0.454231</td>\n",
       "      <td>b'AR7G5I41187FB4CE6C'</td>\n",
       "      <td>b'e188a520-9cb7-4f73-a3d7-2f70c6538e92'</td>\n",
       "      <td>12697</td>\n",
       "      <td>19072</td>\n",
       "      <td>NaN</td>\n",
       "      <td>NaN</td>\n",
       "      <td>b'London, England'</td>\n",
       "      <td>b'Adam Ant'</td>\n",
       "      <td>...</td>\n",
       "      <td>[1.0, 0.086, 0.153, 0.146, 0.088, 0.217, 0.372...</td>\n",
       "      <td>[0.81002, 1.30621, 1.80617, 2.2996, 2.80049, 3...</td>\n",
       "      <td>[0.809, 0.616, 0.789, 0.66, 0.439, 0.758, 0.60...</td>\n",
       "      <td>[1.30621, 3.29887, 5.30252, 7.32327, 9.33775, ...</td>\n",
       "      <td>[0.017, 0.05, 0.014, 0.008, 0.114, 0.019, 0.08...</td>\n",
       "      <td>[0.56254, 0.81002, 1.05749, 1.30621, 1.55494, ...</td>\n",
       "      <td>[0.601, 0.556, 0.523, 0.49, 0.466, 0.44, 0.428...</td>\n",
       "      <td>[b'uk', b'british', b'english']</td>\n",
       "      <td>[1, 1, 1]</td>\n",
       "      <td>1982</td>\n",
       "    </tr>\n",
       "    <tr>\n",
       "      <th>4</th>\n",
       "      <td>0.651046</td>\n",
       "      <td>0.401724</td>\n",
       "      <td>b'ARXR32B1187FB57099'</td>\n",
       "      <td>b'c6903a2e-063c-4f91-a284-17b8f421be7b'</td>\n",
       "      <td>8355</td>\n",
       "      <td>30973</td>\n",
       "      <td>NaN</td>\n",
       "      <td>NaN</td>\n",
       "      <td>b''</td>\n",
       "      <td>b'Gob'</td>\n",
       "      <td>...</td>\n",
       "      <td>[1.0, 0.768, 0.611, 0.388, 0.52, 0.42, 0.499, ...</td>\n",
       "      <td>[0.13576, 0.59914, 1.06368, 1.52591, 1.99045, ...</td>\n",
       "      <td>[0.883, 0.738, 0.484, 0.609, 0.625, 0.719, 0.4...</td>\n",
       "      <td>[1.06368, 2.91491, 4.76729, 6.61852, 8.46978, ...</td>\n",
       "      <td>[0.175, 0.409, 0.639, 0.067, 0.016, 0.066, 0.0...</td>\n",
       "      <td>[0.13576, 0.36918, 0.59914, 0.83141, 1.06368, ...</td>\n",
       "      <td>[1.0, 0.98, 0.932, 0.87, 0.82, 0.793, 0.768, 0...</td>\n",
       "      <td>[]</td>\n",
       "      <td>[]</td>\n",
       "      <td>2007</td>\n",
       "    </tr>\n",
       "  </tbody>\n",
       "</table>\n",
       "<p>5 rows × 54 columns</p>\n",
       "</div>"
      ],
      "text/plain": [
       "   artist_familiarity  artist_hotttnesss              artist_id  \\\n",
       "0            0.581794           0.401998  b'ARD7TVE1187B99BFB1'   \n",
       "1            0.630630           0.417500  b'ARMJAGH1187FB546F3'   \n",
       "2            0.487357           0.343428  b'ARKRRTF1187B9984DA'   \n",
       "3            0.630382           0.454231  b'AR7G5I41187FB4CE6C'   \n",
       "4            0.651046           0.401724  b'ARXR32B1187FB57099'   \n",
       "\n",
       "                               artist_mbid  artist_playmeid  \\\n",
       "0  b'e77e51a5-4761-45b3-9847-2051f811e366'             4479   \n",
       "1  b'1c78ab62-db33-4433-8d0b-7c8dcf1849c2'            22066   \n",
       "2  b'7a273984-edd9-4451-9c4d-39b38f05ebcd'            13951   \n",
       "3  b'e188a520-9cb7-4f73-a3d7-2f70c6538e92'            12697   \n",
       "4  b'c6903a2e-063c-4f91-a284-17b8f421be7b'             8355   \n",
       "\n",
       "   artist_7digitalid  artist_latitude  artist_longitude     artist_location  \\\n",
       "0             165270              NaN               NaN  b'California - LA'   \n",
       "1               1998         35.14968         -90.04892      b'Memphis, TN'   \n",
       "2             290021              NaN               NaN                 b''   \n",
       "3              19072              NaN               NaN  b'London, England'   \n",
       "4              30973              NaN               NaN                 b''   \n",
       "\n",
       "           artist_name  ...  \\\n",
       "0            b'Casual'  ...   \n",
       "1      b'The Box Tops'  ...   \n",
       "2  b'Sonora Santanera'  ...   \n",
       "3          b'Adam Ant'  ...   \n",
       "4               b'Gob'  ...   \n",
       "\n",
       "                                 sections_confidence  \\\n",
       "0  [1.0, 1.0, 0.218, 0.133, 0.384, 0.326, 0.373, ...   \n",
       "1  [1.0, 0.451, 0.27, 0.397, 0.225, 0.426, 0.459,...   \n",
       "2  [1.0, 0.121, 0.214, 0.198, 0.66, 0.468, 0.591,...   \n",
       "3  [1.0, 0.086, 0.153, 0.146, 0.088, 0.217, 0.372...   \n",
       "4  [1.0, 0.768, 0.611, 0.388, 0.52, 0.42, 0.499, ...   \n",
       "\n",
       "                                         beats_start  \\\n",
       "0  [0.58521, 1.19196, 1.78893, 2.37813, 2.94247, ...   \n",
       "1  [0.20627, 0.71054, 1.21836, 1.71841, 2.21729, ...   \n",
       "2  [0.73152, 1.39732, 2.04852, 2.68691, 3.315, 3....   \n",
       "3  [0.81002, 1.30621, 1.80617, 2.2996, 2.80049, 3...   \n",
       "4  [0.13576, 0.59914, 1.06368, 1.52591, 1.99045, ...   \n",
       "\n",
       "                                    beats_confidence  \\\n",
       "0  [0.834, 0.851, 0.65, 0.635, 0.532, 0.753, 0.62...   \n",
       "1  [1.0, 0.945, 0.714, 0.973, 0.818, 0.974, 0.878...   \n",
       "2  [0.98, 0.399, 0.185, 0.27, 0.422, 0.0, 0.445, ...   \n",
       "3  [0.809, 0.616, 0.789, 0.66, 0.439, 0.758, 0.60...   \n",
       "4  [0.883, 0.738, 0.484, 0.609, 0.625, 0.719, 0.4...   \n",
       "\n",
       "                                          bars_start  \\\n",
       "0  [0.58521, 2.94247, 5.14371, 7.74554, 10.36149,...   \n",
       "1  [0.71054, 2.71502, 4.70861, 6.69288, 8.66941, ...   \n",
       "2  [0.73152, 1.39732, 2.04852, 2.68691, 3.315, 3....   \n",
       "3  [1.30621, 3.29887, 5.30252, 7.32327, 9.33775, ...   \n",
       "4  [1.06368, 2.91491, 4.76729, 6.61852, 8.46978, ...   \n",
       "\n",
       "                                     bars_confidence  \\\n",
       "0  [0.643, 0.746, 0.722, 0.095, 0.091, 0.362, 0.4...   \n",
       "1  [0.007, 0.259, 0.172, 0.404, 0.011, 0.016, 0.0...   \n",
       "2  [0.98, 0.399, 0.185, 0.27, 0.422, 0.0, 0.445, ...   \n",
       "3  [0.017, 0.05, 0.014, 0.008, 0.114, 0.019, 0.08...   \n",
       "4  [0.175, 0.409, 0.639, 0.067, 0.016, 0.066, 0.0...   \n",
       "\n",
       "                                        tatums_start  \\\n",
       "0  [0.28519, 0.58521, 0.89422, 1.19196, 1.49119, ...   \n",
       "1  [0.20627, 0.45904, 0.71054, 0.96834, 1.21836, ...   \n",
       "2  [0.42132, 0.73152, 1.06609, 1.39732, 1.72854, ...   \n",
       "3  [0.56254, 0.81002, 1.05749, 1.30621, 1.55494, ...   \n",
       "4  [0.13576, 0.36918, 0.59914, 0.83141, 1.06368, ...   \n",
       "\n",
       "                                   tatums_confidence  \\\n",
       "0  [0.779, 0.734, 0.674, 0.637, 0.597, 0.532, 0.4...   \n",
       "1  [0.969, 0.929, 0.897, 0.871, 0.856, 0.845, 0.8...   \n",
       "2  [0.482, 0.676, 0.627, 0.549, 0.279, 0.264, 0.2...   \n",
       "3  [0.601, 0.556, 0.523, 0.49, 0.466, 0.44, 0.428...   \n",
       "4  [1.0, 0.98, 0.932, 0.87, 0.82, 0.793, 0.768, 0...   \n",
       "\n",
       "                     artist_mbtags artist_mbtags_count  year  \n",
       "0                               []                  []     0  \n",
       "1        [b'classic pop and rock']                 [1]  1969  \n",
       "2                               []                  []     0  \n",
       "3  [b'uk', b'british', b'english']           [1, 1, 1]  1982  \n",
       "4                               []                  []  2007  \n",
       "\n",
       "[5 rows x 54 columns]"
      ]
     },
     "execution_count": 4,
     "metadata": {},
     "output_type": "execute_result"
    }
   ],
   "source": [
    "subset.head()"
   ]
  },
  {
   "cell_type": "code",
   "execution_count": 129,
   "id": "02670259-2f5d-443a-bde6-990db8aa956e",
   "metadata": {},
   "outputs": [],
   "source": [
    "use_columns = ['artist_familiarity','artist_hotttnesss','song_hotttnesss', 'key','loudness', 'tempo', 'time_signature','year','artist_location']\n",
    "use_columns += ['similar_artists'] \n",
    "\n",
    "use_subset = subset[use_columns]"
   ]
  },
  {
   "cell_type": "code",
   "execution_count": 131,
   "id": "c24a0fd0-54c5-4c02-a349-2f65750b00f1",
   "metadata": {},
   "outputs": [],
   "source": [
    "mbtag_columns = ['artist_mbtags','artist_terms',]"
   ]
  },
  {
   "cell_type": "code",
   "execution_count": 133,
   "id": "27e276d8-e86e-432a-afe6-4c3e736b3c14",
   "metadata": {},
   "outputs": [],
   "source": [
    "use_non_nest_list_cols = ['segments_start','segments_loudness_max','segments_loudness_max_time',\n",
    "                          'segments_loudness_start','sections_start','beats_start','bars_start','tatums_start']\n",
    "non_nest_list_subset = subset[use_non_nest_list_cols]"
   ]
  },
  {
   "cell_type": "code",
   "execution_count": 5,
   "id": "bd9273ca-1870-4b01-a798-44529635e365",
   "metadata": {},
   "outputs": [],
   "source": [
    "possible_nest_list_cols = ['segments_pitches','segments_timbre']\n",
    "nest_list_subset = subset[possible_nest_list_cols]"
   ]
  },
  {
   "cell_type": "code",
   "execution_count": null,
   "id": "35010af8-c0fe-46de-9988-c779601f5ce5",
   "metadata": {},
   "outputs": [],
   "source": [
    "nonnest_len_segstart = non_nest_list_subset['segments_start'].apply(lambda x: ast.literal_eval(x))\n",
    "\n"
   ]
  },
  {
   "cell_type": "code",
   "execution_count": null,
   "id": "5d04b981-e023-47bf-8ee8-6ec637e5726f",
   "metadata": {},
   "outputs": [],
   "source": [
    "nonnest_len_max = nonnest_len_segstart.apply(lambda x: len(x)).max()"
   ]
  },
  {
   "cell_type": "code",
   "execution_count": 58,
   "id": "db4f3c43-1cb9-4078-b9b3-b45383ce3a7c",
   "metadata": {},
   "outputs": [
    {
     "data": {
      "text/plain": [
       "(10000,)"
      ]
     },
     "execution_count": 58,
     "metadata": {},
     "output_type": "execute_result"
    }
   ],
   "source": [
    "nonnest_segstart_dict = {f'segments_start_{i}': [None for _ in range(nonnest_len_segstart.shape[0])] for i in range(nonnest_len_max)}\n",
    "\n"
   ]
  },
  {
   "cell_type": "code",
   "execution_count": 9,
   "id": "880db9fb-15e0-48cc-99b9-e9dd27ad4ded",
   "metadata": {},
   "outputs": [
    {
     "ename": "NameError",
     "evalue": "name 'non_nest_list_subset' is not defined",
     "output_type": "error",
     "traceback": [
      "\u001b[1;31m---------------------------------------------------------------------------\u001b[0m",
      "\u001b[1;31mNameError\u001b[0m                                 Traceback (most recent call last)",
      "Cell \u001b[1;32mIn[9], line 29\u001b[0m\n\u001b[0;32m     26\u001b[0m         \u001b[38;5;28mprint\u001b[39m(\u001b[38;5;124m'\u001b[39m\u001b[38;5;124m-----------------\u001b[39m\u001b[38;5;124m'\u001b[39m)\n\u001b[0;32m     27\u001b[0m     \u001b[38;5;28;01mreturn\u001b[39;00m out_dict\n\u001b[1;32m---> 29\u001b[0m out_dict \u001b[38;5;241m=\u001b[39m create_list_dict(non_nest_list_subset,use_non_nest_list_cols,timer\u001b[38;5;241m=\u001b[39m\u001b[38;5;28;01mTrue\u001b[39;00m)\n",
      "\u001b[1;31mNameError\u001b[0m: name 'non_nest_list_subset' is not defined"
     ]
    }
   ],
   "source": [
    "out_dict = {}\n",
    "\n",
    "def create_list_dict(dataframe,col_list,timer=False):\n",
    "    out_dict = dict()\n",
    "    if timer: \n",
    "        total_time = time.time()\n",
    "    for col_name in col_list: \n",
    "        if timer:\n",
    "            col_time = time.time()\n",
    "        print(col_name)\n",
    "        lit_eval_col = dataframe[col_name].apply(lambda x: ast.literal_eval(x))\n",
    "        lit_eval_col_max= lit_eval_col.apply(lambda x: len(x)).max()\n",
    "        print(\"got through getting lists\")\n",
    "        lit_start_dict = {f'{col_name}_{i}': [None for _ in range(lit_eval_col.shape[0])] for i in range(lit_eval_col_max)}\n",
    "        for listdex in range(lit_eval_col.shape[0]):\n",
    "            if listdex % 1000 == 0:\n",
    "                print(f\"Doing row {listdex} out of {lit_eval_col.shape[0]}\")\n",
    "            for dictdex in range(len(lit_eval_col.iloc[listdex])): \n",
    "                #print(f'{col_name}_{dictdex}')\n",
    "                lit_start_dict[f'{col_name}_{dictdex}'][listdex] = lit_eval_col.iloc[listdex][dictdex]\n",
    "        for i in lit_start_dict.keys(): \n",
    "            out_dict[i] = lit_start_dict[i]\n",
    "        if timer:\n",
    "            print(f\"This column took {time.time() - col_time} seconds\")\n",
    "            print(f\"{time.time() - total_time} seconds have passed in total\")\n",
    "        print('-----------------')\n",
    "    return out_dict\n",
    "\n",
    "out_dict = create_list_dict(non_nest_list_subset,use_non_nest_list_cols,timer=True)"
   ]
  },
  {
   "cell_type": "code",
   "execution_count": 136,
   "id": "36423675-5662-4e53-a024-8ca9e414cf4a",
   "metadata": {},
   "outputs": [],
   "source": [
    "#out_df.to_csv('95_percent_full_non_nested_list_columns.csv')"
   ]
  },
  {
   "cell_type": "code",
   "execution_count": 19,
   "id": "3164b0f8-9bcf-466c-b524-9f8b26d93d65",
   "metadata": {},
   "outputs": [
    {
     "data": {
      "text/html": [
       "<div>\n",
       "<style scoped>\n",
       "    .dataframe tbody tr th:only-of-type {\n",
       "        vertical-align: middle;\n",
       "    }\n",
       "\n",
       "    .dataframe tbody tr th {\n",
       "        vertical-align: top;\n",
       "    }\n",
       "\n",
       "    .dataframe thead th {\n",
       "        text-align: right;\n",
       "    }\n",
       "</style>\n",
       "<table border=\"1\" class=\"dataframe\">\n",
       "  <thead>\n",
       "    <tr style=\"text-align: right;\">\n",
       "      <th></th>\n",
       "      <th>segments_pitches</th>\n",
       "      <th>segments_timbre</th>\n",
       "    </tr>\n",
       "  </thead>\n",
       "  <tbody>\n",
       "    <tr>\n",
       "      <th>0</th>\n",
       "      <td>[[0.946, 0.684, 0.679, 0.941, 0.744, 0.633, 0....</td>\n",
       "      <td>[[0.0, 171.13, 9.469, -28.48, 57.491, -50.067,...</td>\n",
       "    </tr>\n",
       "    <tr>\n",
       "      <th>1</th>\n",
       "      <td>[[1.0, 1.0, 1.0, 1.0, 1.0, 1.0, 1.0, 1.0, 1.0,...</td>\n",
       "      <td>[[0.0, 171.13, 9.469, -28.48, 57.491, -50.067,...</td>\n",
       "    </tr>\n",
       "    <tr>\n",
       "      <th>2</th>\n",
       "      <td>[[1.0, 0.911, 0.18, 0.334, 0.327, 0.344, 0.302...</td>\n",
       "      <td>[[0.0, 171.124, 9.459, -28.489, 57.482, -50.06...</td>\n",
       "    </tr>\n",
       "    <tr>\n",
       "      <th>3</th>\n",
       "      <td>[[0.651, 0.592, 0.647, 0.494, 0.683, 0.919, 1....</td>\n",
       "      <td>[[24.937, 37.465, 177.22, -216.443, 56.3, 202....</td>\n",
       "    </tr>\n",
       "    <tr>\n",
       "      <th>4</th>\n",
       "      <td>[[1.0, 0.529, 0.407, 0.423, 0.524, 0.509, 0.65...</td>\n",
       "      <td>[[0.089, 169.621, 5.435, -30.061, 54.144, -50....</td>\n",
       "    </tr>\n",
       "    <tr>\n",
       "      <th>...</th>\n",
       "      <td>...</td>\n",
       "      <td>...</td>\n",
       "    </tr>\n",
       "    <tr>\n",
       "      <th>9995</th>\n",
       "      <td>[[1.0, 1.0, 1.0, 1.0, 1.0, 1.0, 1.0, 1.0, 1.0,...</td>\n",
       "      <td>[[0.0, 171.13, 9.469, -28.48, 57.491, -50.067,...</td>\n",
       "    </tr>\n",
       "    <tr>\n",
       "      <th>9996</th>\n",
       "      <td>[[1.0, 1.0, 1.0, 1.0, 1.0, 1.0, 1.0, 1.0, 1.0,...</td>\n",
       "      <td>[[0.0, 171.13, 9.469, -28.48, 57.491, -50.067,...</td>\n",
       "    </tr>\n",
       "    <tr>\n",
       "      <th>9997</th>\n",
       "      <td>[[0.93, 1.0, 0.768, 0.688, 0.758, 0.777, 0.883...</td>\n",
       "      <td>[[0.0, 171.13, 9.469, -28.48, 57.491, -50.067,...</td>\n",
       "    </tr>\n",
       "    <tr>\n",
       "      <th>9998</th>\n",
       "      <td>[[0.823, 0.272, 0.222, 0.293, 0.241, 0.282, 0....</td>\n",
       "      <td>[[23.471, 185.592, 124.145, -73.753, 68.518, 1...</td>\n",
       "    </tr>\n",
       "    <tr>\n",
       "      <th>9999</th>\n",
       "      <td>[[0.901, 1.0, 0.553, 0.49, 0.433, 0.379, 0.564...</td>\n",
       "      <td>[[0.0, 171.13, 9.469, -28.48, 57.491, -50.067,...</td>\n",
       "    </tr>\n",
       "  </tbody>\n",
       "</table>\n",
       "<p>10000 rows × 2 columns</p>\n",
       "</div>"
      ],
      "text/plain": [
       "                                       segments_pitches  \\\n",
       "0     [[0.946, 0.684, 0.679, 0.941, 0.744, 0.633, 0....   \n",
       "1     [[1.0, 1.0, 1.0, 1.0, 1.0, 1.0, 1.0, 1.0, 1.0,...   \n",
       "2     [[1.0, 0.911, 0.18, 0.334, 0.327, 0.344, 0.302...   \n",
       "3     [[0.651, 0.592, 0.647, 0.494, 0.683, 0.919, 1....   \n",
       "4     [[1.0, 0.529, 0.407, 0.423, 0.524, 0.509, 0.65...   \n",
       "...                                                 ...   \n",
       "9995  [[1.0, 1.0, 1.0, 1.0, 1.0, 1.0, 1.0, 1.0, 1.0,...   \n",
       "9996  [[1.0, 1.0, 1.0, 1.0, 1.0, 1.0, 1.0, 1.0, 1.0,...   \n",
       "9997  [[0.93, 1.0, 0.768, 0.688, 0.758, 0.777, 0.883...   \n",
       "9998  [[0.823, 0.272, 0.222, 0.293, 0.241, 0.282, 0....   \n",
       "9999  [[0.901, 1.0, 0.553, 0.49, 0.433, 0.379, 0.564...   \n",
       "\n",
       "                                        segments_timbre  \n",
       "0     [[0.0, 171.13, 9.469, -28.48, 57.491, -50.067,...  \n",
       "1     [[0.0, 171.13, 9.469, -28.48, 57.491, -50.067,...  \n",
       "2     [[0.0, 171.124, 9.459, -28.489, 57.482, -50.06...  \n",
       "3     [[24.937, 37.465, 177.22, -216.443, 56.3, 202....  \n",
       "4     [[0.089, 169.621, 5.435, -30.061, 54.144, -50....  \n",
       "...                                                 ...  \n",
       "9995  [[0.0, 171.13, 9.469, -28.48, 57.491, -50.067,...  \n",
       "9996  [[0.0, 171.13, 9.469, -28.48, 57.491, -50.067,...  \n",
       "9997  [[0.0, 171.13, 9.469, -28.48, 57.491, -50.067,...  \n",
       "9998  [[23.471, 185.592, 124.145, -73.753, 68.518, 1...  \n",
       "9999  [[0.0, 171.13, 9.469, -28.48, 57.491, -50.067,...  \n",
       "\n",
       "[10000 rows x 2 columns]"
      ]
     },
     "execution_count": 19,
     "metadata": {},
     "output_type": "execute_result"
    }
   ],
   "source": [
    "nest_list_subset"
   ]
  },
  {
   "cell_type": "code",
   "execution_count": 11,
   "id": "a6681632-ca2c-4eb2-9e88-e0eaf90058c9",
   "metadata": {},
   "outputs": [
    {
     "name": "stdout",
     "output_type": "stream",
     "text": [
      "Okay, we're starting in on column segments_pitches\n",
      "Getting lengths took 239.660254240036 seconds. 239.6760959625244 seconds have passed in total.\n",
      "Setting up the Nones took 25.136075496673584 seconds. This column has taken 264.7963297367096 seconds. 264.812171459198 seconds have passed in total\n",
      "I am on row 0 out of 10000\n",
      "I am on row 500 out of 10000\n",
      "I am on row 1000 out of 10000\n",
      "I am on row 1500 out of 10000\n",
      "I am on row 2000 out of 10000\n",
      "I am on row 2500 out of 10000\n",
      "I am on row 3000 out of 10000\n",
      "I am on row 3500 out of 10000\n",
      "I am on row 4000 out of 10000\n",
      "I am on row 4500 out of 10000\n",
      "I am on row 5000 out of 10000\n",
      "I am on row 5500 out of 10000\n",
      "I am on row 6000 out of 10000\n",
      "I am on row 6500 out of 10000\n",
      "I am on row 7000 out of 10000\n",
      "I am on row 7500 out of 10000\n",
      "I am on row 8000 out of 10000\n",
      "I am on row 8500 out of 10000\n",
      "I am on row 9000 out of 10000\n",
      "I am on row 9500 out of 10000\n",
      "Doing this column took 615.6135740280151 seconds. 615.6294157505035 seconds have passed in total\n"
     ]
    }
   ],
   "source": [
    "def nested_column_to_dict(df, inlist): \n",
    "    start = time.time()\n",
    "    outdict = dict()\n",
    "    for col in inlist: \n",
    "        print(\"Okay, we're starting in on column \" + col)\n",
    "        coltime = time.time()\n",
    "        nested_list_column = df[col].apply(lambda x: ast.literal_eval(x))\n",
    "        nested_list_outer_len = nested_list_column.apply(lambda x: len(x)).max()\n",
    "        nested_list_inner_len = nested_list_column.apply(lambda x: max([len(i) for i in x])).max()\n",
    "        lentime = time.time()\n",
    "        print(f\"Getting lengths took {lentime - coltime} seconds. {lentime - start} seconds have passed in total.\")\n",
    "        for outer in range(nested_list_outer_len):\n",
    "            for inner in range(nested_list_inner_len): \n",
    "                outdict[f\"{col}_{outer}_{inner}\"] = [None for _ in range(df.shape[0])]\n",
    "        skeletontime = time.time()\n",
    "        print(f\"Setting up the Nones took {skeletontime - lentime} seconds. This column has taken {skeletontime-coltime} seconds. {skeletontime - start} seconds have passed in total\")\n",
    "        for row in range(df.shape[0]): \n",
    "            for outer_dex in range(len(nested_list_column.iloc[row])): \n",
    "                for inner_dex in range(len(nested_list_column.iloc[row][outer_dex])): \n",
    "                    outdict[f\"{col}_{outer_dex}_{inner_dex}\"][row] = nested_list_column.iloc[row][outer_dex][inner_dex]\n",
    "            if row % 500 == 0:\n",
    "                print(f\"I am on row {row} out of {df.shape[0]}\")\n",
    "        colendtime = time.time()\n",
    "        print(f\"Doing this column took {colendtime - coltime} seconds. {colendtime-start} seconds have passed in total\")\n",
    "    return outdict\n",
    "\n",
    "\n",
    "#This only worked on segments_pitches, which is the first column. If you want to do the other one, you'll need to check out nested_columns_may_melt_your_computer.py\n",
    "expanded_nested_pitches = nested_column_to_dict(nest_list_subset, [list(nest_list_subset.columns)[0]])"
   ]
  },
  {
   "cell_type": "code",
   "execution_count": 17,
   "id": "5dd89ed6-641e-43bb-8e9a-2f7076e82eb4",
   "metadata": {},
   "outputs": [],
   "source": [
    "expanded_nested_pitches= pd.DataFrame(expanded_nested_pitches)"
   ]
  },
  {
   "cell_type": "code",
   "execution_count": 43,
   "id": "a844fabd-cfeb-4939-84c1-f28b6d10c52c",
   "metadata": {},
   "outputs": [],
   "source": [
    "def drop_na_cols(df, threshold = 0.5): \n",
    "    df_isnan_sum = df.isna().sum()\n",
    "    df_isnan_bool = (df_isnan_sum <= df.shape[0] * threshold) == True\n",
    "    df_isnan_bool = df_isnan_bool[df_isnan_bool].index\n",
    "    df = df[df_isnan_bool]\n",
    "    return df\n",
    "\n",
    "expanded_nested_pitches = drop_na_cols(expanded_nested_pitches)"
   ]
  },
  {
   "cell_type": "code",
   "execution_count": 41,
   "id": "22f8a703-fccf-4e64-97f2-b462b9d276dd",
   "metadata": {},
   "outputs": [
    {
     "data": {
      "text/plain": [
       "702.2096290588379"
      ]
     },
     "execution_count": 41,
     "metadata": {},
     "output_type": "execute_result"
    }
   ],
   "source": [
    "sys.getsizeof(expanded_nested_pitches)/(1024**2)"
   ]
  },
  {
   "cell_type": "code",
   "execution_count": 45,
   "id": "a4692c90-b6b4-4201-8c82-8d0ab7bd3d18",
   "metadata": {},
   "outputs": [],
   "source": [
    "expanded_nested_pitches.to_csv('pitches_half.csv')"
   ]
  },
  {
   "cell_type": "code",
   "execution_count": 155,
   "id": "bce09ba5-6b85-4706-8053-b4a217f0a791",
   "metadata": {},
   "outputs": [],
   "source": [
    "thing = list(expanded_nested_pitches.keys())[-1]\n",
    "other = list(expanded_nested_pitches.keys())[0]"
   ]
  },
  {
   "cell_type": "code",
   "execution_count": 17,
   "id": "126c9b3d-9027-44aa-a91c-985eb3bac4fa",
   "metadata": {},
   "outputs": [],
   "source": [
    "proper_dict = dict()\n",
    "for key in expanded_nested_pitches.keys(): \n",
    "    if expanded_nested_pitches[key].count(None) >= (len(expanded_nested_pitches[key])*.95):\n",
    "        proper_dict[key] = expanded_nested_pitches[key]"
   ]
  },
  {
   "cell_type": "code",
   "execution_count": 23,
   "id": "99c992a6-048f-4e19-a630-b1a0e7b76b4a",
   "metadata": {},
   "outputs": [
    {
     "data": {
      "text/plain": [
       "101028"
      ]
     },
     "execution_count": 23,
     "metadata": {},
     "output_type": "execute_result"
    }
   ],
   "source": [
    "len(proper_dict.keys())"
   ]
  },
  {
   "cell_type": "code",
   "execution_count": 25,
   "id": "d6e5be4a-3906-4687-830f-76bbe31b1afc",
   "metadata": {},
   "outputs": [],
   "source": [
    "exp_nest_pitch_df = pd.DataFrame(expanded_nested_pitches)"
   ]
  },
  {
   "cell_type": "code",
   "execution_count": 27,
   "id": "89b9a808-f023-4143-b568-1c33f63d58f6",
   "metadata": {},
   "outputs": [],
   "source": [
    "test_df_size =  sys.getsizeof(exp_nest_pitch_df)\n",
    "test_df_size/(1024**2)"
   ]
  },
  {
   "cell_type": "code",
   "execution_count": 37,
   "id": "0b2641cb-0e19-45e9-a894-d2b6585572c5",
   "metadata": {},
   "outputs": [],
   "source": [
    "#exp_nest_pitch_df.to_csv(\"segments_pitches_flattened.csv\")"
   ]
  },
  {
   "cell_type": "code",
   "execution_count": 15,
   "id": "650a2acd-df8e-4c8d-822c-8b022e62c5fc",
   "metadata": {},
   "outputs": [],
   "source": [
    "def listify(instr): \n",
    "    outlist = []\n",
    "    if type(instr) == str:\n",
    "        rawlist = instr.split(',')\n",
    "    else: \n",
    "        rawlist = instr\n",
    "    pattern = r\"[\\'\\\"](.*)\"\n",
    "    for element in rawlist: \n",
    "        red_element = re.findall(pattern,element)\n",
    "        if len(red_element) != 0: \n",
    "            red_element = red_element[0]\n",
    "            cleaned_element = re.sub(r'[\\\"\\'\\]\\[]','',red_element)\n",
    "            outlist.append(cleaned_element)\n",
    "    return outlist\n",
    "\n",
    "def collect_list(use_col):\n",
    "    out_dict = dict()\n",
    "    for element in use_col: \n",
    "        listed_el = listify(element)\n",
    "        for sub_element in listed_el: \n",
    "            if sub_element not in out_dict.keys(): \n",
    "                out_dict[sub_element] = 1\n",
    "            else: \n",
    "                out_dict[sub_element] += 1\n",
    "    return out_dict\n",
    "\n",
    "def sort_genre(in_dict): \n",
    "    uselist = [(i,in_dict[i]) for i in in_dict]\n",
    "    uselist = sorted(uselist, key = lambda x: -x[1])\n",
    "    return uselist\n",
    "\n",
    "artist_term_dict = collect_list(subset['artist_terms'])\n",
    "artist_term_sorted = sort_genre(artist_term_dict)\n",
    "\n",
    "artist_mbtags_dict = collect_list(subset['artist_mbtags'])\n",
    "artist_mbtags_sorted = sort_genre(artist_mbtags_dict)"
   ]
  },
  {
   "cell_type": "code",
   "execution_count": 121,
   "id": "e129175d-3e51-4614-8e5e-9b3026fd4ecb",
   "metadata": {},
   "outputs": [],
   "source": [
    "#artist_term_sorted"
   ]
  },
  {
   "cell_type": "code",
   "execution_count": 31,
   "id": "782c9623-88d7-41a5-b747-2675d1aac831",
   "metadata": {},
   "outputs": [],
   "source": [
    "#test = pd.read_csv('segments_timbre_unpacked_95_percent_nonnan.csv')"
   ]
  }
 ],
 "metadata": {
  "kernelspec": {
   "display_name": "Python 3 (ipykernel)",
   "language": "python",
   "name": "python3"
  },
  "language_info": {
   "codemirror_mode": {
    "name": "ipython",
    "version": 3
   },
   "file_extension": ".py",
   "mimetype": "text/x-python",
   "name": "python",
   "nbconvert_exporter": "python",
   "pygments_lexer": "ipython3",
   "version": "3.11.11"
  }
 },
 "nbformat": 4,
 "nbformat_minor": 5
}
